{
  "nbformat": 4,
  "nbformat_minor": 0,
  "metadata": {
    "colab": {
      "name": "Word2vecNN",
      "provenance": [],
      "collapsed_sections": []
    },
    "kernelspec": {
      "name": "python3",
      "display_name": "Python 3"
    }
  },
  "cells": [
    {
      "cell_type": "code",
      "metadata": {
        "id": "Kx5X-m5AK2c9"
      },
      "source": [
        "import torch\n",
        "from torch.autograd import Variable\n",
        "import numpy as np\n",
        "import torch.functional as F\n",
        "import torch.nn.functional as F\n",
        "import plotly.express as px\n",
        "import pandas as pd\n",
        "import pymorphy2\n",
        "from torch import nn\n",
        "from unicodedata import normalize\n",
        "from matplotlib import pyplot as plt\n",
        "import plotly.graph_objects as go"
      ],
      "execution_count": 2,
      "outputs": []
    },
    {
      "cell_type": "code",
      "metadata": {
        "id": "YVjqBD2pBHoH",
        "outputId": "39a1dc34-2526-4d7d-c622-22664857cd83",
        "colab": {
          "base_uri": "https://localhost:8080/"
        }
      },
      "source": [
        "!pip install pymorphy2"
      ],
      "execution_count": 1,
      "outputs": [
        {
          "output_type": "stream",
          "text": [
            "Requirement already satisfied: pymorphy2 in /usr/local/lib/python3.6/dist-packages (0.9.1)\n",
            "Requirement already satisfied: dawg-python>=0.7.1 in /usr/local/lib/python3.6/dist-packages (from pymorphy2) (0.7.2)\n",
            "Requirement already satisfied: pymorphy2-dicts-ru<3.0,>=2.4 in /usr/local/lib/python3.6/dist-packages (from pymorphy2) (2.4.417127.4579844)\n",
            "Requirement already satisfied: docopt>=0.6 in /usr/local/lib/python3.6/dist-packages (from pymorphy2) (0.6.2)\n"
          ],
          "name": "stdout"
        }
      ]
    },
    {
      "cell_type": "code",
      "metadata": {
        "id": "wEN-ppk5CfgM",
        "outputId": "19ccf410-3062-45fe-e1df-bf96ec039300",
        "colab": {
          "base_uri": "https://localhost:8080/"
        }
      },
      "source": [
        "import regex as re\n",
        "import nltk\n",
        "nltk.download(\"stopwords\")\n",
        "from nltk.corpus import stopwords\n",
        "morph = pymorphy2.MorphAnalyzer()\n",
        "\n",
        "def remove_punctuation(text):\n",
        "    return re.sub(r\"\\p{P}+\", \"\", text)"
      ],
      "execution_count": 3,
      "outputs": [
        {
          "output_type": "stream",
          "text": [
            "[nltk_data] Downloading package stopwords to /root/nltk_data...\n",
            "[nltk_data]   Package stopwords is already up-to-date!\n"
          ],
          "name": "stdout"
        }
      ]
    },
    {
      "cell_type": "code",
      "metadata": {
        "id": "q7z-mN2sBEyQ",
        "outputId": "eb384a02-e209-479c-d122-800f5c521ac8",
        "colab": {
          "base_uri": "https://localhost:8080/",
          "height": 289
        }
      },
      "source": [
        "df = pd.read_excel('./sample_data/culture_contents.xlsx')\n",
        "df.head()"
      ],
      "execution_count": 4,
      "outputs": [
        {
          "output_type": "execute_result",
          "data": {
            "text/html": [
              "<div>\n",
              "<style scoped>\n",
              "    .dataframe tbody tr th:only-of-type {\n",
              "        vertical-align: middle;\n",
              "    }\n",
              "\n",
              "    .dataframe tbody tr th {\n",
              "        vertical-align: top;\n",
              "    }\n",
              "\n",
              "    .dataframe thead th {\n",
              "        text-align: right;\n",
              "    }\n",
              "</style>\n",
              "<table border=\"1\" class=\"dataframe\">\n",
              "  <thead>\n",
              "    <tr style=\"text-align: right;\">\n",
              "      <th></th>\n",
              "      <th>url</th>\n",
              "      <th>title</th>\n",
              "      <th>text</th>\n",
              "      <th>topic</th>\n",
              "      <th>tags</th>\n",
              "      <th>date</th>\n",
              "    </tr>\n",
              "  </thead>\n",
              "  <tbody>\n",
              "    <tr>\n",
              "      <th>0</th>\n",
              "      <td>https://lenta.ru/news/2008/04/25/snipes/</td>\n",
              "      <td>Уэсли Снайпса приговорили к трем годам тюрьмы</td>\n",
              "      <td>Американского актера Уэсли Снайпса в четверг п...</td>\n",
              "      <td>Культура</td>\n",
              "      <td>Кино</td>\n",
              "      <td>2008/04/25</td>\n",
              "    </tr>\n",
              "    <tr>\n",
              "      <th>1</th>\n",
              "      <td>https://lenta.ru/news/2013/01/14/mendes/</td>\n",
              "      <td>Режиссер последнего \"Бонда\" займется сериалом ...</td>\n",
              "      <td>Режиссер Сэм Мендес, снявший \"007: Координаты ...</td>\n",
              "      <td>Культура</td>\n",
              "      <td>Кино</td>\n",
              "      <td>2013/01/14</td>\n",
              "    </tr>\n",
              "    <tr>\n",
              "      <th>2</th>\n",
              "      <td>https://lenta.ru/news/2013/01/14/mcafee/</td>\n",
              "      <td>Жизнь Джона Макафи экранизируют</td>\n",
              "      <td>Кинокомпания Warner Bros. снимет фильм о жизни...</td>\n",
              "      <td>Культура</td>\n",
              "      <td>Кино</td>\n",
              "      <td>2013/01/14</td>\n",
              "    </tr>\n",
              "    <tr>\n",
              "      <th>3</th>\n",
              "      <td>https://lenta.ru/news/2013/01/14/kylie/</td>\n",
              "      <td>СМИ сообщили об уходе Кайли Миноуг из музыки в...</td>\n",
              "      <td>Австралийская певица Кайли Миноуг решила покин...</td>\n",
              "      <td>Культура</td>\n",
              "      <td>Кино</td>\n",
              "      <td>2013/01/14</td>\n",
              "    </tr>\n",
              "    <tr>\n",
              "      <th>4</th>\n",
              "      <td>https://lenta.ru/news/2013/01/14/aboutaboy/</td>\n",
              "      <td>\"Мой мальчик\" по Нику Хорнби станет сериалом</td>\n",
              "      <td>Телеканал NBC заказал съемки пилотного эпизода...</td>\n",
              "      <td>Культура</td>\n",
              "      <td>Кино</td>\n",
              "      <td>2013/01/14</td>\n",
              "    </tr>\n",
              "  </tbody>\n",
              "</table>\n",
              "</div>"
            ],
            "text/plain": [
              "                                           url  ...        date\n",
              "0     https://lenta.ru/news/2008/04/25/snipes/  ...  2008/04/25\n",
              "1     https://lenta.ru/news/2013/01/14/mendes/  ...  2013/01/14\n",
              "2     https://lenta.ru/news/2013/01/14/mcafee/  ...  2013/01/14\n",
              "3      https://lenta.ru/news/2013/01/14/kylie/  ...  2013/01/14\n",
              "4  https://lenta.ru/news/2013/01/14/aboutaboy/  ...  2013/01/14\n",
              "\n",
              "[5 rows x 6 columns]"
            ]
          },
          "metadata": {
            "tags": []
          },
          "execution_count": 4
        }
      ]
    },
    {
      "cell_type": "code",
      "metadata": {
        "id": "-DKzGdnoIsAV"
      },
      "source": [
        "corpus = list(df['title'][:100].apply(lambda x: \"\".join(filter(lambda x: not x.isdigit(), remove_punctuation(normalize('NFKD', x)))))) "
      ],
      "execution_count": 28,
      "outputs": []
    },
    {
      "cell_type": "code",
      "metadata": {
        "id": "Fn2cMtniJigl"
      },
      "source": [
        "\n",
        "def tokenize_corpus(corpus):\n",
        "    normal = [list(map(lambda normal: morph.parse(normal)[0].normal_form, x.split())) for x in corpus]\n",
        "    tokens = [[token for token in x if token not in stopwords.words(\"russian\")] for x in normal]\n",
        "    return tokens\n",
        "\n",
        "tokenized_corpus = tokenize_corpus(corpus)"
      ],
      "execution_count": 29,
      "outputs": []
    },
    {
      "cell_type": "code",
      "metadata": {
        "id": "RhFl4o4uHGJ0",
        "outputId": "71be5e69-12bb-4c40-8738-60cd3dfdbe02",
        "colab": {
          "base_uri": "https://localhost:8080/"
        }
      },
      "source": [
        "tokenized_corpus"
      ],
      "execution_count": 30,
      "outputs": [
        {
          "output_type": "execute_result",
          "data": {
            "text/plain": [
              "[['уэсли', 'снайпёс', 'приговорить', 'год', 'тюрьма'],\n",
              " ['режиссёр',\n",
              "  'последний',\n",
              "  'бонд',\n",
              "  'зайаться',\n",
              "  'сериал',\n",
              "  'дракула',\n",
              "  'франкенштейич'],\n",
              " ['жизнь', 'джон', 'макафи', 'экранизировать'],\n",
              " ['сми', 'сообщить', 'уход', 'кайть', 'миноуга', 'музыка', 'кино'],\n",
              " ['мой', 'мальчик', 'ник', 'хорнби', 'стать', 'сериал'],\n",
              " ['cоздатель', 'тюдор', 'сделать', 'сериал', 'александр', 'македонский'],\n",
              " ['главный',\n",
              "  'героиня',\n",
              "  'секс',\n",
              "  'большой',\n",
              "  'город',\n",
              "  'встретиться',\n",
              "  'дневник',\n",
              "  'кэрри'],\n",
              " ['пират', 'карибский', 'море', 'получить', 'сценарист'],\n",
              " ['мозг', 'чарли', 'шина', 'вскрыть', 'новый', 'трейлера'],\n",
              " ['спилберг', 'зайаться', 'парк', 'юрский', 'период'],\n",
              " ['тело', 'актриса', 'натали', 'вуд', 'наслать', 'ушиб'],\n",
              " ['создатель', 'южный', 'парк', 'основать', 'свой', 'киностудия'],\n",
              " ['создателей',\n",
              "  'хоббит',\n",
              "  'попросить',\n",
              "  'вернуть',\n",
              "  'деньга',\n",
              "  'новозеландский',\n",
              "  'налогоплательщик'],\n",
              " ['энн', 'хэтэуэй', 'сыграть', 'укрощение', 'строптивой'],\n",
              " ['умереть', 'режиссёр', 'империя', 'страсть', 'нагис', 'осим'],\n",
              " ['одиссей', 'гомера', 'перенести', 'космос'],\n",
              " ['marvel', 'выпустить', 'ещё', 'новый', 'фильм', 'd'],\n",
              " ['мститель', 'пустить', 'режиссёр', 'звёздный', 'войич'],\n",
              " ['тимур', 'бекмамбет', 'снять', 'фильм', 'майкнуть', 'бэя'],\n",
              " ['бенгур', 'вновь', 'экранизировать'],\n",
              " ['группа', 'metallica', 'снять', 'трехмерный', 'фильм'],\n",
              " ['сиквел', 'тупой', 'ещё', 'тупой', 'появиться', 'сценарий'],\n",
              " ['шварценеггер', 'анонсировать', 'близнец'],\n",
              " ['аль', 'пачиный', 'снова', 'сняться', 'брайана', 'де', 'пальма'],\n",
              " ['режиссёр', 'зелёный', 'слоник', 'представить', 'россия', 'берлинал'],\n",
              " ['китай', 'цензурировать', 'последний', 'бонд'],\n",
              " ['князь',\n",
              "  'монако',\n",
              "  'раскритиковать',\n",
              "  'фильм',\n",
              "  'николь',\n",
              "  'кидман',\n",
              "  'роль',\n",
              "  'грейс',\n",
              "  'келли'],\n",
              " ['сара',\n",
              "  'джессика',\n",
              "  'паркер',\n",
              "  'вырезать',\n",
              "  'фильм',\n",
              "  'звезда',\n",
              "  'глубокой',\n",
              "  'глотка'],\n",
              " ['aliens', 'colonial', 'marines', 'wii', 'u', 'выйдеть', 'конец', 'март'],\n",
              " ['сценарист', 'аватар', 'зайаться', 'терминатор'],\n",
              " ['уволить', 'продюсер', 'подать', 'суд', 'создателей', 'новой', 'годзилла'],\n",
              " ['джей',\n",
              "  'джей',\n",
              "  'абрамс',\n",
              "  'рон',\n",
              "  'говард',\n",
              "  'снять',\n",
              "  'римейк',\n",
              "  'израильской',\n",
              "  'фантастика'],\n",
              " ['лауреат', 'венецианский', 'кинофестиваль', 'экранизировать', 'стругацкий'],\n",
              " ['ди', 'каприо', 'надолго', 'отказаться', 'съёмка'],\n",
              " ['звезда', 'нефть', 'сыграть', 'фронтмен', 'the', 'beach', 'boys'],\n",
              " ['джеймс',\n",
              "  'франко',\n",
              "  'сыграть',\n",
              "  'убитый',\n",
              "  'чарльз',\n",
              "  'мэнсоном',\n",
              "  'парикмахер'],\n",
              " ['интернет',\n",
              "  'появиться',\n",
              "  'иллюстрированный',\n",
              "  'сценарий',\n",
              "  'королевство',\n",
              "  'полной',\n",
              "  'луна'],\n",
              " ['программа', 'берлинал', 'впервые', 'попасть', 'казахстанский', 'фильм'],\n",
              " ['спилберг', 'хэнкс', 'снова', 'отправиться', 'второй', 'мировой'],\n",
              " ['американский',\n",
              "  'телеканал',\n",
              "  'приобрести',\n",
              "  'право',\n",
              "  'фильм',\n",
              "  'pussy',\n",
              "  'riot'],\n",
              " ['лэнс', 'армстронг', 'снять', 'фильм'],\n",
              " ['фильм',\n",
              "  'джессикой',\n",
              "  'честейн',\n",
              "  'возглавить',\n",
              "  'североамериканский',\n",
              "  'прокат'],\n",
              " ['первый', 'бэтмобиль', 'продать', 'рекордный', 'сумма'],\n",
              " ['британский', 'принцесса', 'сбежать', 'дворец', 'новый', 'фильм'],\n",
              " ['роберт', 'редфорд', 'сняться', 'фильм', 'слово'],\n",
              " ['новый', 'фильм', 'становление', 'the', 'beatles', 'снять', 'ньюйорк'],\n",
              " ['князь', 'монако', 'ответить', 'критика', 'фильм', 'мать'],\n",
              " ['брюс', 'уиллис', 'вернуться', 'город', 'грех'],\n",
              " ['умереть', 'британский', 'кинорежиссёр', 'майклый', 'уиннер'],\n",
              " ['amazon', 'сделать', 'зомбилэнд', 'сериал'],\n",
              " ['джон', 'макафи', 'снять', 'ещё', 'фильм'],\n",
              " ['тим', 'бертон', 'женой', 'отдохнуть', 'кино'],\n",
              " ['появиться', 'фото', 'бенедикт', 'камбербэтч', 'роль', 'джулиан', 'ассанж'],\n",
              " ['джозеф', 'гордонлевитта', 'опровергнуть', 'слух', 'роль', 'бэтмена'],\n",
              " ['шварценеггер', 'сняться', 'терминатор'],\n",
              " ['балабан', 'позвать', 'кустурица', 'соавтор', 'фильм', 'сталин'],\n",
              " ['китайский', 'цензор', 'сократить', 'облачный', 'атлас', 'минута'],\n",
              " ['северокорейца', 'разбомбить', 'белый', 'дом', 'новый', 'трейлера'],\n",
              " ['ким', 'ки', 'дук', 'написать', 'сценарий', 'свой', 'протеже'],\n",
              " ['джулиан', 'ассанж', 'назвать', 'посвященный', 'фильм', 'ложь'],\n",
              " ['звёздный', 'войич', 'наслать', 'миккимаус'],\n",
              " ['мила', 'кунис', 'захотеть', 'сняться', 'оттенок', 'серый'],\n",
              " ['неонацист', 'снять', 'сериал', 'четвертый', 'рейх'],\n",
              " ['юлия', 'снигиря', 'отправиться', 'морозильник'],\n",
              " ['суд', 'потребовать', 'кэмерон', 'черновик', 'аватар'],\n",
              " ['сеть',\n",
              "  'выложить',\n",
              "  'первый',\n",
              "  'видео',\n",
              "  'эштон',\n",
              "  'катчер',\n",
              "  'роль',\n",
              "  'стив',\n",
              "  'джобс'],\n",
              " ['снять', 'сиквел', 'крадущийся', 'тигр', 'затаиться', 'дракон'],\n",
              " ['седьмой', 'звёздный', 'войич', 'снять', 'джей', 'джей', 'абрамс'],\n",
              " ['москва', 'вручить', 'кинопремия', 'золотой', 'орёл'],\n",
              " ['выйти', 'первый', 'трейлера', 'новый', 'фильм', 'брат', 'коэн'],\n",
              " ['звезда', 'ночной', 'портье', 'сыграть', 'правосудие', 'декстер'],\n",
              " ['любовь', 'стать', 'фаворит', 'главной', 'французской', 'кинопремия'],\n",
              " ['фильм', 'pussy', 'riot', 'получить', 'специальный', 'приз', 'сандэнс'],\n",
              " ['гильдия', 'продюсер', 'сша', 'назвать', 'операция', 'арго', 'фильм', 'год'],\n",
              " ['marvel', 'задумать', 'фильм', 'доктор', 'стрэнджа'],\n",
              " ['фанат',\n",
              "  'тарантино',\n",
              "  'наслать',\n",
              "  'джанго',\n",
              "  'отсылка',\n",
              "  'криминальный',\n",
              "  'чтиво'],\n",
              " ['брэдлить', 'купер', 'предложить', 'сыграть', 'лэнс', 'армстронг'],\n",
              " ['североамериканский', 'прокат', 'возглавить', 'охотник', 'ведьма'],\n",
              " ['сша', 'вручить', 'премия', 'гильдия', 'киноактёр'],\n",
              " ['эллен', 'пейдж', 'снова', 'стать', 'мутант'],\n",
              " ['автор', 'бондиана', 'раскритиковать', 'координата', 'скайфолл'],\n",
              " ['скорсез', 'благословить', 'свой', 'помощница', 'режиссерский', 'дебют'],\n",
              " ['обнародовать', 'состав', 'жюри', 'берлинал'],\n",
              " ['режиссёр', 'заложница', 'снять', 'боевик', 'шон', 'пенный'],\n",
              " ['лоуренс', 'оливье', 'собираться', 'сыграть', 'ведьма', 'макбет'],\n",
              " ['человекпаук', 'сразиться', 'джиаматтиносорогий'],\n",
              " ['выпуск', 'старый', 'звёздный', 'войн', 'd', 'отложить'],\n",
              " ['российский', 'кинопрокат', 'возглавить', 'охотник', 'ведьма'],\n",
              " ['игра', 'престол', 'разнести', 'континент'],\n",
              " ['фонд', 'кино', 'смениться', 'директор'],\n",
              " ['бел', 'тарра', 'упразднить', 'венгерский', 'кино'],\n",
              " ['брэдлить',\n",
              "  'купер',\n",
              "  'откреститься',\n",
              "  'роль',\n",
              "  'велосипедист',\n",
              "  'лэнс',\n",
              "  'армстронг'],\n",
              " ['фонд', 'кино', 'возглавить', 'чиновник', 'администрация', 'президент'],\n",
              " ['снять', 'фильм', 'педро', 'альмодовар'],\n",
              " ['ева', 'грин', 'сняться', 'новый', 'город', 'грех'],\n",
              " ['гора', 'вербинск', 'экранизировать', 'комикс', 'аниматор', 'пхеньян'],\n",
              " ['кроненберг', 'вернуться', 'делилло', 'космополис'],\n",
              " ['сценарист', 'скайфолл', 'написать', 'барбарелла', 'режиссёр', 'драйв'],\n",
              " ['шарлиз', 'терон', 'сняться', 'вестерн', 'создатель', 'гриффин'],\n",
              " ['барбара', 'стрейзанда', 'спеть', 'церемония', 'оскар']]"
            ]
          },
          "metadata": {
            "tags": []
          },
          "execution_count": 30
        }
      ]
    },
    {
      "cell_type": "code",
      "metadata": {
        "id": "S7GDVdmtKGG7"
      },
      "source": [
        "vocabulary = []\n",
        "for sentence in tokenized_corpus:\n",
        "    for token in sentence:\n",
        "        if token not in vocabulary:\n",
        "            vocabulary.append(token)\n",
        "\n",
        "word2idx = {w: idx for (idx, w) in enumerate(vocabulary)}\n",
        "idx2word = {idx: w for (idx, w) in enumerate(vocabulary)}\n",
        "\n",
        "vocabulary_size = len(vocabulary)"
      ],
      "execution_count": 31,
      "outputs": []
    },
    {
      "cell_type": "code",
      "metadata": {
        "id": "q78TRvzUKQRd"
      },
      "source": [
        "word2idx"
      ],
      "execution_count": null,
      "outputs": []
    },
    {
      "cell_type": "code",
      "metadata": {
        "id": "Wo0npb9zM2wE",
        "outputId": "4b29897a-05e0-46c3-dcd7-b6f28a3332a7",
        "colab": {
          "base_uri": "https://localhost:8080/"
        }
      },
      "source": [
        "vocabulary_size"
      ],
      "execution_count": 32,
      "outputs": [
        {
          "output_type": "execute_result",
          "data": {
            "text/plain": [
              "416"
            ]
          },
          "metadata": {
            "tags": []
          },
          "execution_count": 32
        }
      ]
    },
    {
      "cell_type": "code",
      "metadata": {
        "id": "m_FnNckvKUXI"
      },
      "source": [
        "window_size = 2\n",
        "idx_pairs = []\n",
        "# for each sentence\n",
        "for sentence in tokenized_corpus:\n",
        "    indices = [word2idx[word] for word in sentence]\n",
        "    # for each word, threated as center word\n",
        "    for center_word_pos in range(len(indices)):\n",
        "        # for each window position\n",
        "        for w in range(-window_size, window_size + 1):\n",
        "            context_word_pos = center_word_pos + w\n",
        "            # make soure not jump out sentence\n",
        "            if context_word_pos < 0 or context_word_pos >= len(indices) or center_word_pos == context_word_pos:\n",
        "                continue\n",
        "            context_word_idx = indices[context_word_pos]\n",
        "            idx_pairs.append((indices[center_word_pos], context_word_idx))\n",
        "\n",
        "idx_pairs = np.array(idx_pairs) # it will be useful to have this as numpy array"
      ],
      "execution_count": 33,
      "outputs": []
    },
    {
      "cell_type": "code",
      "metadata": {
        "id": "_pRBS-TAKvEA",
        "outputId": "46501cc7-4788-4705-8628-33df9729177d",
        "colab": {
          "base_uri": "https://localhost:8080/"
        }
      },
      "source": [
        "idx_pairs[:10]"
      ],
      "execution_count": 34,
      "outputs": [
        {
          "output_type": "execute_result",
          "data": {
            "text/plain": [
              "array([[0, 1],\n",
              "       [0, 2],\n",
              "       [1, 0],\n",
              "       [1, 2],\n",
              "       [1, 3],\n",
              "       [2, 0],\n",
              "       [2, 1],\n",
              "       [2, 3],\n",
              "       [2, 4],\n",
              "       [3, 1]])"
            ]
          },
          "metadata": {
            "tags": []
          },
          "execution_count": 34
        }
      ]
    },
    {
      "cell_type": "code",
      "metadata": {
        "id": "5Xsy5_fAK-qK"
      },
      "source": [
        "def get_input_layer(word_idx):\n",
        "    x = torch.zeros(vocabulary_size).float()\n",
        "    x[word_idx] = 1.0\n",
        "    return x"
      ],
      "execution_count": 35,
      "outputs": []
    },
    {
      "cell_type": "code",
      "metadata": {
        "id": "5zPwShzRwTw2"
      },
      "source": [
        "D_in, H, D_out = vocabulary_size, 5, vocabulary_size\n",
        "class MyModule(nn.Module):\n",
        "    def __init__(self):\n",
        "        super().__init__()\n",
        "        self.f_lin = nn.Linear(D_in, H)\n",
        "        self.s_lin = nn.Linear(H, D_out)\n",
        "        \n",
        "    def forward(self, X):\n",
        "        X = self.f_lin(X)\n",
        "        return F.log_softmax(self.s_lin(X), dim=0)\n",
        "    \n",
        "model = MyModule()\n",
        "loss_fn = nn.NLLLoss()\n",
        "optim = torch.optim.Adam(model.parameters(), 0.001)"
      ],
      "execution_count": 36,
      "outputs": []
    },
    {
      "cell_type": "code",
      "metadata": {
        "id": "gwmLahXvyo0v",
        "outputId": "8a23b167-3f5c-4a96-d199-50d954f8e0e1",
        "colab": {
          "base_uri": "https://localhost:8080/",
          "height": 1000
        }
      },
      "source": [
        "losses = []\n",
        "for epo in range(220):\n",
        "    loss_val = 0\n",
        "    for data, target in idx_pairs:\n",
        "        X = Variable(get_input_layer(data)).float()\n",
        "    # forward\n",
        "        y_pred = model(X)\n",
        "        y_true = Variable(torch.from_numpy(np.array([target])).long())\n",
        "    # loss\n",
        "        loss = loss_fn(y_pred.view(1,-1), y_true)\n",
        "        loss_val += loss.data.item()\n",
        "        optim.zero_grad()\n",
        "        loss.backward()\n",
        "        optim.step()\n",
        "    losses.append(loss_val)\n",
        "    print(f'Loss at epo {epo}: {loss_val/len(idx_pairs)}')\n",
        "plt.plot(losses)"
      ],
      "execution_count": 37,
      "outputs": [
        {
          "output_type": "stream",
          "text": [
            "Loss at epo 0: 6.208875377500991\n",
            "Loss at epo 1: 5.980740903675414\n",
            "Loss at epo 2: 5.8626254123067065\n",
            "Loss at epo 3: 5.737239625703127\n",
            "Loss at epo 4: 5.651492576134743\n",
            "Loss at epo 5: 5.571016880508839\n",
            "Loss at epo 6: 5.488009812571374\n",
            "Loss at epo 7: 5.400886045428183\n",
            "Loss at epo 8: 5.309937845074932\n",
            "Loss at epo 9: 5.215737693029458\n",
            "Loss at epo 10: 5.119686472019503\n",
            "Loss at epo 11: 5.024716884959622\n",
            "Loss at epo 12: 4.932985597438314\n",
            "Loss at epo 13: 4.844894389217087\n",
            "Loss at epo 14: 4.760124613086288\n",
            "Loss at epo 15: 4.678442552791922\n",
            "Loss at epo 16: 4.599769308561384\n",
            "Loss at epo 17: 4.524075586623081\n",
            "Loss at epo 18: 4.451292154801713\n",
            "Loss at epo 19: 4.381382876400993\n",
            "Loss at epo 20: 4.314290345352223\n",
            "Loss at epo 21: 4.24997687084941\n",
            "Loss at epo 22: 4.188331855943254\n",
            "Loss at epo 23: 4.129270601265504\n",
            "Loss at epo 24: 4.072691463305661\n",
            "Loss at epo 25: 4.018495541959647\n",
            "Loss at epo 26: 3.966596899257703\n",
            "Loss at epo 27: 3.916887724803066\n",
            "Loss at epo 28: 3.8692868637217477\n",
            "Loss at epo 29: 3.823685348918772\n",
            "Loss at epo 30: 3.7799965936044617\n",
            "Loss at epo 31: 3.7381369035133556\n",
            "Loss at epo 32: 3.698019793438515\n",
            "Loss at epo 33: 3.659568762092579\n",
            "Loss at epo 34: 3.622700189361946\n",
            "Loss at epo 35: 3.5873450849939696\n",
            "Loss at epo 36: 3.553426072143036\n",
            "Loss at epo 37: 3.5208851173343114\n",
            "Loss at epo 38: 3.48965703280125\n",
            "Loss at epo 39: 3.4596942496837744\n",
            "Loss at epo 40: 3.430938317699274\n",
            "Loss at epo 41: 3.403342575896664\n",
            "Loss at epo 42: 3.3768559891084595\n",
            "Loss at epo 43: 3.3514261071231757\n",
            "Loss at epo 44: 3.3270019727478117\n",
            "Loss at epo 45: 3.3035284007176084\n",
            "Loss at epo 46: 3.280954479427915\n",
            "Loss at epo 47: 3.2592275174878838\n",
            "Loss at epo 48: 3.238297646197174\n",
            "Loss at epo 49: 3.2181201045912404\n",
            "Loss at epo 50: 3.198649055671805\n",
            "Loss at epo 51: 3.179848586861708\n",
            "Loss at epo 52: 3.161674624985867\n",
            "Loss at epo 53: 3.14409822522886\n",
            "Loss at epo 54: 3.1270822869910195\n",
            "Loss at epo 55: 3.110597747521842\n",
            "Loss at epo 56: 3.094615300343042\n",
            "Loss at epo 57: 3.0791072862802378\n",
            "Loss at epo 58: 3.0640522900641387\n",
            "Loss at epo 59: 3.049424410078701\n",
            "Loss at epo 60: 3.0352100970272216\n",
            "Loss at epo 61: 3.021386235881588\n",
            "Loss at epo 62: 3.0079427136378163\n",
            "Loss at epo 63: 2.994861969047374\n",
            "Loss at epo 64: 2.9821385478959233\n",
            "Loss at epo 65: 2.969750160842497\n",
            "Loss at epo 66: 2.957696284594417\n",
            "Loss at epo 67: 2.9459596627575486\n",
            "Loss at epo 68: 2.9345345973897716\n",
            "Loss at epo 69: 2.9234062532701857\n",
            "Loss at epo 70: 2.9125731104626507\n",
            "Loss at epo 71: 2.90201897919178\n",
            "Loss at epo 72: 2.8917381701694533\n",
            "Loss at epo 73: 2.8817208242246486\n",
            "Loss at epo 74: 2.8719626653789057\n",
            "Loss at epo 75: 2.8624529339143048\n",
            "Loss at epo 76: 2.8531853383553\n",
            "Loss at epo 77: 2.844152219186486\n",
            "Loss at epo 78: 2.835349119208629\n",
            "Loss at epo 79: 2.826771668895123\n",
            "Loss at epo 80: 2.8184050415905806\n",
            "Loss at epo 81: 2.8102519748259045\n",
            "Loss at epo 82: 2.8023039570295047\n",
            "Loss at epo 83: 2.7945545391664086\n",
            "Loss at epo 84: 2.7869971299858105\n",
            "Loss at epo 85: 2.7796276652048433\n",
            "Loss at epo 86: 2.772440982579902\n",
            "Loss at epo 87: 2.7654366475881704\n",
            "Loss at epo 88: 2.7586005275577943\n",
            "Loss at epo 89: 2.7519354447722435\n",
            "Loss at epo 90: 2.7454364333222143\n",
            "Loss at epo 91: 2.739093124954972\n",
            "Loss at epo 92: 2.7329034354015653\n",
            "Loss at epo 93: 2.7268627721842846\n",
            "Loss at epo 94: 2.720967538690199\n",
            "Loss at epo 95: 2.7152096875666722\n",
            "Loss at epo 96: 2.7095890637849966\n",
            "Loss at epo 97: 2.704097816486115\n",
            "Loss at epo 98: 2.698735221406343\n",
            "Loss at epo 99: 2.693494489173142\n",
            "Loss at epo 100: 2.6883762933650095\n",
            "Loss at epo 101: 2.68337057557426\n",
            "Loss at epo 102: 2.6784830843574077\n",
            "Loss at epo 103: 2.673701476597729\n",
            "Loss at epo 104: 2.6690306801729418\n",
            "Loss at epo 105: 2.6644596337493414\n",
            "Loss at epo 106: 2.6599944501301174\n",
            "Loss at epo 107: 2.6556243551917142\n",
            "Loss at epo 108: 2.6513525307921784\n",
            "Loss at epo 109: 2.647171985862374\n",
            "Loss at epo 110: 2.6430855272713862\n",
            "Loss at epo 111: 2.639084277625888\n",
            "Loss at epo 112: 2.6351756667651927\n",
            "Loss at epo 113: 2.6313436122305887\n",
            "Loss at epo 114: 2.6276003842080575\n",
            "Loss at epo 115: 2.6239333298951033\n",
            "Loss at epo 116: 2.6203481475523986\n",
            "Loss at epo 117: 2.6168371123259537\n",
            "Loss at epo 118: 2.613402684110785\n",
            "Loss at epo 119: 2.6100422845281783\n",
            "Loss at epo 120: 2.606752311567513\n",
            "Loss at epo 121: 2.603532932751819\n",
            "Loss at epo 122: 2.600381420336823\n",
            "Loss at epo 123: 2.597298486038795\n",
            "Loss at epo 124: 2.5942798570824914\n",
            "Loss at epo 125: 2.5913268226661197\n",
            "Loss at epo 126: 2.5884350652047687\n",
            "Loss at epo 127: 2.585606212606056\n",
            "Loss at epo 128: 2.582835491295382\n",
            "Loss at epo 129: 2.5801254580253095\n",
            "Loss at epo 130: 2.5774709897341466\n",
            "Loss at epo 131: 2.5748745789154124\n",
            "Loss at epo 132: 2.5723318516181655\n",
            "Loss at epo 133: 2.569845305184995\n",
            "Loss at epo 134: 2.5674095360336566\n",
            "Loss at epo 135: 2.565028180135967\n",
            "Loss at epo 136: 2.5626950516872053\n",
            "Loss at epo 137: 2.560415325266024\n",
            "Loss at epo 138: 2.558181457327692\n",
            "Loss at epo 139: 2.5559980045128037\n",
            "Loss at epo 140: 2.5538599266363153\n",
            "Loss at epo 141: 2.5517719792746307\n",
            "Loss at epo 142: 2.5497246548144097\n",
            "Loss at epo 143: 2.547727571601256\n",
            "Loss at epo 144: 2.5457690570353044\n",
            "Loss at epo 145: 2.543858693235702\n",
            "Loss at epo 146: 2.541985766727681\n",
            "Loss at epo 147: 2.5401588120008873\n",
            "Loss at epo 148: 2.5383683362015637\n",
            "Loss at epo 149: 2.5366210863702086\n",
            "Loss at epo 150: 2.5349097360022843\n",
            "Loss at epo 151: 2.5332397100230293\n",
            "Loss at epo 152: 2.53160521793323\n",
            "Loss at epo 153: 2.530008761942245\n",
            "Loss at epo 154: 2.5284489016988783\n",
            "Loss at epo 155: 2.5269243202024003\n",
            "Loss at epo 156: 2.525435296840736\n",
            "Loss at epo 157: 2.5239813277351884\n",
            "Loss at epo 158: 2.522560666016615\n",
            "Loss at epo 159: 2.5211739601155925\n",
            "Loss at epo 160: 2.5198197813965644\n",
            "Loss at epo 161: 2.5184988919778277\n",
            "Loss at epo 162: 2.5172087854026617\n",
            "Loss at epo 163: 2.5159510476890765\n",
            "Loss at epo 164: 2.5147228282555547\n",
            "Loss at epo 165: 2.5135253069661294\n",
            "Loss at epo 166: 2.5123576104747145\n",
            "Loss at epo 167: 2.5112188158826703\n",
            "Loss at epo 168: 2.510109174863884\n",
            "Loss at epo 169: 2.509026847673567\n",
            "Loss at epo 170: 2.5079734911721845\n",
            "Loss at epo 171: 2.506946291535597\n",
            "Loss at epo 172: 2.5059471203107164\n",
            "Loss at epo 173: 2.5049730489946316\n",
            "Loss at epo 174: 2.5040270510415\n",
            "Loss at epo 175: 2.503103382673088\n",
            "Loss at epo 176: 2.502208510745591\n",
            "Loss at epo 177: 2.501335381081155\n",
            "Loss at epo 178: 2.500489630017456\n",
            "Loss at epo 179: 2.4996646195473127\n",
            "Loss at epo 180: 2.498866261343633\n",
            "Loss at epo 181: 2.4980884836787567\n",
            "Loss at epo 182: 2.497336056764788\n",
            "Loss at epo 183: 2.49660359294709\n",
            "Loss at epo 184: 2.4958959150873565\n",
            "Loss at epo 185: 2.49520765223724\n",
            "Loss at epo 186: 2.494543213193745\n",
            "Loss at epo 187: 2.4938977652023637\n",
            "Loss at epo 188: 2.4932753958002687\n",
            "Loss at epo 189: 2.492671614605712\n",
            "Loss at epo 190: 2.492090134450064\n",
            "Loss at epo 191: 2.4915268239067454\n",
            "Loss at epo 192: 2.490985436741077\n",
            "Loss at epo 193: 2.4904617913899116\n",
            "Loss at epo 194: 2.489959052385599\n",
            "Loss at epo 195: 2.489474500425496\n",
            "Loss at epo 196: 2.4890091333918787\n",
            "Loss at epo 197: 2.4885614479841074\n",
            "Loss at epo 198: 2.4881320239847744\n",
            "Loss at epo 199: 2.4877200798262042\n",
            "Loss at epo 200: 2.4873259751714607\n",
            "Loss at epo 201: 2.4869489748376\n",
            "Loss at epo 202: 2.486588996001066\n",
            "Loss at epo 203: 2.4862454586138067\n",
            "Loss at epo 204: 2.4859182408119325\n",
            "Loss at epo 205: 2.4856074429924586\n",
            "Loss at epo 206: 2.485312889898616\n",
            "Loss at epo 207: 2.485034099844176\n",
            "Loss at epo 208: 2.4847711528211196\n",
            "Loss at epo 209: 2.484523574876955\n",
            "Loss at epo 210: 2.484291271313211\n",
            "Loss at epo 211: 2.4840740006496675\n",
            "Loss at epo 212: 2.4838715555796713\n",
            "Loss at epo 213: 2.483683920069432\n",
            "Loss at epo 214: 2.483510505505384\n",
            "Loss at epo 215: 2.483351525423646\n",
            "Loss at epo 216: 2.4832065165255246\n",
            "Loss at epo 217: 2.483075491092975\n",
            "Loss at epo 218: 2.4829582289533776\n",
            "Loss at epo 219: 2.4828546697764953\n"
          ],
          "name": "stdout"
        },
        {
          "output_type": "execute_result",
          "data": {
            "text/plain": [
              "[<matplotlib.lines.Line2D at 0x7fc8bb9a9710>]"
            ]
          },
          "metadata": {
            "tags": []
          },
          "execution_count": 37
        },
        {
          "output_type": "display_data",
          "data": {
            "image/png": "[encoded data removed]",
            "text/plain": [
              "<Figure size 432x288 with 1 Axes>"
            ]
          },
          "metadata": {
            "tags": [],
            "needs_background": "light"
          }
        }
      ]
    },
    {
      "cell_type": "code",
      "metadata": {
        "id": "JVX9o_vwPBby",
        "outputId": "9fd177ee-c31a-4aec-9b67-202ac38d5205",
        "colab": {
          "base_uri": "https://localhost:8080/",
          "height": 517
        }
      },
      "source": [
        "inputText = \"премия\"\n",
        "input = Variable(get_input_layer(word2idx[inputText])).float()\n",
        "output = model(input)\n",
        "result = [(idx2word[idx], w.data.item()) for (idx, w) in enumerate(output)]\n",
        "result.sort(key=lambda tup: tup[1], reverse=True)\n",
        "df = pd.DataFrame(np.arange(0, 30), columns=['names'])\n",
        "df['probs'] = list(map(lambda x: x[1], result[:30]))\n",
        "df['names'] = list(map(lambda x: x[0], result[:30]))\n",
        "\n",
        "min = abs(df[\"probs\"].min())\n",
        "df['probs'] = df['probs'].apply(lambda x: ((min - abs(x)) / min) * 100)\n",
        "fig = px.bar(df, x='names', y='probs',\n",
        "             hover_data=['names', 'probs'], \n",
        "             labels= {'names':'Слово', 'probs': 'Вероятность'}, \n",
        "             color='probs', height=500, title = 'Соседние слова для слова ' + inputText)\n",
        "fig.update_layout(barmode='group', xaxis_tickangle=-45)\n",
        "fig.show()"
      ],
      "execution_count": 57,
      "outputs": [
        {
          "output_type": "display_data",
          "data": {
            "text/html": [
              "<html>\n",
              "<head><meta charset=\"utf-8\" /></head>\n",
              "<body>\n",
              "    <div>\n",
              "            <script src=\"https://cdnjs.cloudflare.com/ajax/libs/mathjax/2.7.5/MathJax.js?config=TeX-AMS-MML_SVG\"></script><script type=\"text/javascript\">if (window.MathJax) {MathJax.Hub.Config({SVG: {font: \"STIX-Web\"}});}</script>\n",
              "                <script type=\"text/javascript\">window.PlotlyConfig = {MathJaxConfig: 'local'};</script>\n",
              "        <script src=\"https://cdn.plot.ly/plotly-latest.min.js\"></script>    \n",
              "            <div id=\"5074baaf-8f60-4dea-9b87-3bbdf595f283\" class=\"plotly-graph-div\" style=\"height:500px; width:100%;\"></div>\n",
              "            <script type=\"text/javascript\">\n",
              "                \n",
              "                    window.PLOTLYENV=window.PLOTLYENV || {};\n",
              "                    \n",
              "                if (document.getElementById(\"5074baaf-8f60-4dea-9b87-3bbdf595f283\")) {\n",
              "                    Plotly.newPlot(\n",
              "                        '5074baaf-8f60-4dea-9b87-3bbdf595f283',\n",
              "                        [{\"alignmentgroup\": \"True\", \"customdata\": [[\"\\u0432\\u0440\\u0443\\u0447\\u0438\\u0442\\u044c\", 76.14911746089534], [\"\\u0441\\u0448\\u0430\", 72.91078104011774], [\"\\u0433\\u0438\\u043b\\u044c\\u0434\\u0438\\u044f\", 70.03459469411696], [\"\\u043a\\u0438\\u043d\\u043e\\u0430\\u043a\\u0442\\u0451\\u0440\", 69.41411655072392], [\"\\u043f\\u0440\\u0435\\u043c\\u0438\\u044f\", 68.33447774006217], [\"\\u043f\\u0440\\u043e\\u0434\\u044e\\u0441\\u0435\\u0440\", 49.165107328843156], [\"\\u043a\\u0438\\u043d\\u043e\\u043f\\u0440\\u0435\\u043c\\u0438\\u044f\", 36.25015020803068], [\"\\u0442\\u0430\\u0440\\u0430\\u043d\\u0442\\u0438\\u043d\\u043e\", 29.44626181289493], [\"\\u043d\\u0430\\u0441\\u043b\\u0430\\u0442\\u044c\", 29.362175059875], [\"\\u043d\\u0430\\u0437\\u0432\\u0430\\u0442\\u044c\", 28.214555961265958], [\"\\u0437\\u043e\\u043b\\u043e\\u0442\\u043e\\u0438\\u0306\", 26.187253197795123], [\"\\u043f\\u0440\\u0430\\u0432\\u043e\\u0441\\u0443\\u0434\\u0438\\u0435\", 24.33031013645433], [\"\\u043c\\u043e\\u0441\\u043a\\u0432\\u0430\", 20.720275764097842], [\"\\u043e\\u043f\\u0435\\u0440\\u0430\\u0446\\u0438\\u044f\", 20.19807234018758], [\"\\u0441\\u0443\\u0434\", 19.159510220689803], [\"\\u0434\\u0435\\u043a\\u0441\\u0442\\u0435\\u0440\", 17.01326054341399], [\"\\u043f\\u043e\\u0440\\u0442\\u044c\\u0435\", 16.081509718608306], [\"\\u043a\\u0440\\u0438\\u043c\\u0438\\u043d\\u0430\\u043b\\u044c\\u043d\\u044b\\u0439\", 12.988369436800193], [\"\\u043f\\u043e\\u0434\\u0430\\u0442\\u044c\", 12.51231408409984], [\"\\u043a\\u0443\\u0441\\u0442\\u0443\\u0440\\u0438\\u0446\\u0430\", 10.150746400063772], [\"\\u0444\\u0440\\u0430\\u043d\\u043a\\u043e\", 7.895588464499149], [\"\\u043f\\u043e\\u0442\\u0440\\u0435\\u0431\\u043e\\u0432\\u0430\\u0442\\u044c\", 5.906536696565501], [\"\\u0443\\u0431\\u0438\\u0442\\u044b\\u0439\", 5.90112325862789], [\"\\u043f\\u043e\\u0437\\u0432\\u0430\\u0442\\u044c\", 5.214568453815046], [\"\\u043d\\u043e\\u0447\\u043d\\u043e\\u0439\", 4.280319119192006], [\"\\u0447\\u0430\\u0440\\u043b\\u044c\\u0437\", 2.719479215372736], [\"\\u043e\\u0440\\u0451\\u043b\", 2.6965018483023817], [\"\\u0445\\u044d\\u0442\\u044d\\u0443\\u044d\\u0438\\u0306\", 1.5041326542145697], [\"\\u043a\\u044d\\u043c\\u0435\\u0440\\u043e\\u043d\", 1.2127290746828379], [\"\\u0441\\u0442\\u0440\\u043e\\u043f\\u0442\\u0438\\u0432\\u043e\\u0438\\u0306\", 0.0]], \"hoverlabel\": {\"namelength\": 0}, \"hovertemplate\": \"\\u0421\\u043b\\u043e\\u0432\\u043e=%{customdata[0]}<br>\\u0412\\u0435\\u0440\\u043e\\u044f\\u0442\\u043d\\u043e\\u0441\\u0442\\u044c=%{marker.color}\", \"legendgroup\": \"\", \"marker\": {\"color\": [76.14911746089534, 72.91078104011774, 70.03459469411696, 69.41411655072392, 68.33447774006217, 49.165107328843156, 36.25015020803068, 29.44626181289493, 29.362175059875, 28.214555961265958, 26.187253197795123, 24.33031013645433, 20.720275764097842, 20.19807234018758, 19.159510220689803, 17.01326054341399, 16.081509718608306, 12.988369436800193, 12.51231408409984, 10.150746400063772, 7.895588464499149, 5.906536696565501, 5.90112325862789, 5.214568453815046, 4.280319119192006, 2.719479215372736, 2.6965018483023817, 1.5041326542145697, 1.2127290746828379, 0.0], \"coloraxis\": \"coloraxis\"}, \"name\": \"\", \"offsetgroup\": \"\", \"orientation\": \"v\", \"showlegend\": false, \"textposition\": \"auto\", \"type\": \"bar\", \"x\": [\"\\u0432\\u0440\\u0443\\u0447\\u0438\\u0442\\u044c\", \"\\u0441\\u0448\\u0430\", \"\\u0433\\u0438\\u043b\\u044c\\u0434\\u0438\\u044f\", \"\\u043a\\u0438\\u043d\\u043e\\u0430\\u043a\\u0442\\u0451\\u0440\", \"\\u043f\\u0440\\u0435\\u043c\\u0438\\u044f\", \"\\u043f\\u0440\\u043e\\u0434\\u044e\\u0441\\u0435\\u0440\", \"\\u043a\\u0438\\u043d\\u043e\\u043f\\u0440\\u0435\\u043c\\u0438\\u044f\", \"\\u0442\\u0430\\u0440\\u0430\\u043d\\u0442\\u0438\\u043d\\u043e\", \"\\u043d\\u0430\\u0441\\u043b\\u0430\\u0442\\u044c\", \"\\u043d\\u0430\\u0437\\u0432\\u0430\\u0442\\u044c\", \"\\u0437\\u043e\\u043b\\u043e\\u0442\\u043e\\u0438\\u0306\", \"\\u043f\\u0440\\u0430\\u0432\\u043e\\u0441\\u0443\\u0434\\u0438\\u0435\", \"\\u043c\\u043e\\u0441\\u043a\\u0432\\u0430\", \"\\u043e\\u043f\\u0435\\u0440\\u0430\\u0446\\u0438\\u044f\", \"\\u0441\\u0443\\u0434\", \"\\u0434\\u0435\\u043a\\u0441\\u0442\\u0435\\u0440\", \"\\u043f\\u043e\\u0440\\u0442\\u044c\\u0435\", \"\\u043a\\u0440\\u0438\\u043c\\u0438\\u043d\\u0430\\u043b\\u044c\\u043d\\u044b\\u0439\", \"\\u043f\\u043e\\u0434\\u0430\\u0442\\u044c\", \"\\u043a\\u0443\\u0441\\u0442\\u0443\\u0440\\u0438\\u0446\\u0430\", \"\\u0444\\u0440\\u0430\\u043d\\u043a\\u043e\", \"\\u043f\\u043e\\u0442\\u0440\\u0435\\u0431\\u043e\\u0432\\u0430\\u0442\\u044c\", \"\\u0443\\u0431\\u0438\\u0442\\u044b\\u0439\", \"\\u043f\\u043e\\u0437\\u0432\\u0430\\u0442\\u044c\", \"\\u043d\\u043e\\u0447\\u043d\\u043e\\u0439\", \"\\u0447\\u0430\\u0440\\u043b\\u044c\\u0437\", \"\\u043e\\u0440\\u0451\\u043b\", \"\\u0445\\u044d\\u0442\\u044d\\u0443\\u044d\\u0438\\u0306\", \"\\u043a\\u044d\\u043c\\u0435\\u0440\\u043e\\u043d\", \"\\u0441\\u0442\\u0440\\u043e\\u043f\\u0442\\u0438\\u0432\\u043e\\u0438\\u0306\"], \"xaxis\": \"x\", \"y\": [76.14911746089534, 72.91078104011774, 70.03459469411696, 69.41411655072392, 68.33447774006217, 49.165107328843156, 36.25015020803068, 29.44626181289493, 29.362175059875, 28.214555961265958, 26.187253197795123, 24.33031013645433, 20.720275764097842, 20.19807234018758, 19.159510220689803, 17.01326054341399, 16.081509718608306, 12.988369436800193, 12.51231408409984, 10.150746400063772, 7.895588464499149, 5.906536696565501, 5.90112325862789, 5.214568453815046, 4.280319119192006, 2.719479215372736, 2.6965018483023817, 1.5041326542145697, 1.2127290746828379, 0.0], \"yaxis\": \"y\"}],\n",
              "                        {\"barmode\": \"group\", \"coloraxis\": {\"colorbar\": {\"title\": {\"text\": \"\\u0412\\u0435\\u0440\\u043e\\u044f\\u0442\\u043d\\u043e\\u0441\\u0442\\u044c\"}}, \"colorscale\": [[0.0, \"#0d0887\"], [0.1111111111111111, \"#46039f\"], [0.2222222222222222, \"#7201a8\"], [0.3333333333333333, \"#9c179e\"], [0.4444444444444444, \"#bd3786\"], [0.5555555555555556, \"#d8576b\"], [0.6666666666666666, \"#ed7953\"], [0.7777777777777778, \"#fb9f3a\"], [0.8888888888888888, \"#fdca26\"], [1.0, \"#f0f921\"]]}, \"height\": 500, \"legend\": {\"tracegroupgap\": 0}, \"template\": {\"data\": {\"bar\": [{\"error_x\": {\"color\": \"#2a3f5f\"}, \"error_y\": {\"color\": \"#2a3f5f\"}, \"marker\": {\"line\": {\"color\": \"#E5ECF6\", \"width\": 0.5}}, \"type\": \"bar\"}], \"barpolar\": [{\"marker\": {\"line\": {\"color\": \"#E5ECF6\", \"width\": 0.5}}, \"type\": \"barpolar\"}], \"carpet\": [{\"aaxis\": {\"endlinecolor\": \"#2a3f5f\", \"gridcolor\": \"white\", \"linecolor\": \"white\", \"minorgridcolor\": \"white\", \"startlinecolor\": \"#2a3f5f\"}, \"baxis\": {\"endlinecolor\": \"#2a3f5f\", \"gridcolor\": \"white\", \"linecolor\": \"white\", \"minorgridcolor\": \"white\", \"startlinecolor\": \"#2a3f5f\"}, \"type\": \"carpet\"}], \"choropleth\": [{\"colorbar\": {\"outlinewidth\": 0, \"ticks\": \"\"}, \"type\": \"choropleth\"}], \"contour\": [{\"colorbar\": {\"outlinewidth\": 0, \"ticks\": \"\"}, \"colorscale\": [[0.0, \"#0d0887\"], [0.1111111111111111, \"#46039f\"], [0.2222222222222222, \"#7201a8\"], [0.3333333333333333, \"#9c179e\"], [0.4444444444444444, \"#bd3786\"], [0.5555555555555556, \"#d8576b\"], [0.6666666666666666, \"#ed7953\"], [0.7777777777777778, \"#fb9f3a\"], [0.8888888888888888, \"#fdca26\"], [1.0, \"#f0f921\"]], \"type\": \"contour\"}], \"contourcarpet\": [{\"colorbar\": {\"outlinewidth\": 0, \"ticks\": \"\"}, \"type\": \"contourcarpet\"}], \"heatmap\": [{\"colorbar\": {\"outlinewidth\": 0, \"ticks\": \"\"}, \"colorscale\": [[0.0, \"#0d0887\"], [0.1111111111111111, \"#46039f\"], [0.2222222222222222, \"#7201a8\"], [0.3333333333333333, \"#9c179e\"], [0.4444444444444444, \"#bd3786\"], [0.5555555555555556, \"#d8576b\"], [0.6666666666666666, \"#ed7953\"], [0.7777777777777778, \"#fb9f3a\"], [0.8888888888888888, \"#fdca26\"], [1.0, \"#f0f921\"]], \"type\": \"heatmap\"}], \"heatmapgl\": [{\"colorbar\": {\"outlinewidth\": 0, \"ticks\": \"\"}, \"colorscale\": [[0.0, \"#0d0887\"], [0.1111111111111111, \"#46039f\"], [0.2222222222222222, \"#7201a8\"], [0.3333333333333333, \"#9c179e\"], [0.4444444444444444, \"#bd3786\"], [0.5555555555555556, \"#d8576b\"], [0.6666666666666666, \"#ed7953\"], [0.7777777777777778, \"#fb9f3a\"], [0.8888888888888888, \"#fdca26\"], [1.0, \"#f0f921\"]], \"type\": \"heatmapgl\"}], \"histogram\": [{\"marker\": {\"colorbar\": {\"outlinewidth\": 0, \"ticks\": \"\"}}, \"type\": \"histogram\"}], \"histogram2d\": [{\"colorbar\": {\"outlinewidth\": 0, \"ticks\": \"\"}, \"colorscale\": [[0.0, \"#0d0887\"], [0.1111111111111111, \"#46039f\"], [0.2222222222222222, \"#7201a8\"], [0.3333333333333333, \"#9c179e\"], [0.4444444444444444, \"#bd3786\"], [0.5555555555555556, \"#d8576b\"], [0.6666666666666666, \"#ed7953\"], [0.7777777777777778, \"#fb9f3a\"], [0.8888888888888888, \"#fdca26\"], [1.0, \"#f0f921\"]], \"type\": \"histogram2d\"}], \"histogram2dcontour\": [{\"colorbar\": {\"outlinewidth\": 0, \"ticks\": \"\"}, \"colorscale\": [[0.0, \"#0d0887\"], [0.1111111111111111, \"#46039f\"], [0.2222222222222222, \"#7201a8\"], [0.3333333333333333, \"#9c179e\"], [0.4444444444444444, \"#bd3786\"], [0.5555555555555556, \"#d8576b\"], [0.6666666666666666, \"#ed7953\"], [0.7777777777777778, \"#fb9f3a\"], [0.8888888888888888, \"#fdca26\"], [1.0, \"#f0f921\"]], \"type\": \"histogram2dcontour\"}], \"mesh3d\": [{\"colorbar\": {\"outlinewidth\": 0, \"ticks\": \"\"}, \"type\": \"mesh3d\"}], \"parcoords\": [{\"line\": {\"colorbar\": {\"outlinewidth\": 0, \"ticks\": \"\"}}, \"type\": \"parcoords\"}], \"pie\": [{\"automargin\": true, \"type\": \"pie\"}], \"scatter\": [{\"marker\": {\"colorbar\": {\"outlinewidth\": 0, \"ticks\": \"\"}}, \"type\": \"scatter\"}], \"scatter3d\": [{\"line\": {\"colorbar\": {\"outlinewidth\": 0, \"ticks\": \"\"}}, \"marker\": {\"colorbar\": {\"outlinewidth\": 0, \"ticks\": \"\"}}, \"type\": \"scatter3d\"}], \"scattercarpet\": [{\"marker\": {\"colorbar\": {\"outlinewidth\": 0, \"ticks\": \"\"}}, \"type\": \"scattercarpet\"}], \"scattergeo\": [{\"marker\": {\"colorbar\": {\"outlinewidth\": 0, \"ticks\": \"\"}}, \"type\": \"scattergeo\"}], \"scattergl\": [{\"marker\": {\"colorbar\": {\"outlinewidth\": 0, \"ticks\": \"\"}}, \"type\": \"scattergl\"}], \"scattermapbox\": [{\"marker\": {\"colorbar\": {\"outlinewidth\": 0, \"ticks\": \"\"}}, \"type\": \"scattermapbox\"}], \"scatterpolar\": [{\"marker\": {\"colorbar\": {\"outlinewidth\": 0, \"ticks\": \"\"}}, \"type\": \"scatterpolar\"}], \"scatterpolargl\": [{\"marker\": {\"colorbar\": {\"outlinewidth\": 0, \"ticks\": \"\"}}, \"type\": \"scatterpolargl\"}], \"scatterternary\": [{\"marker\": {\"colorbar\": {\"outlinewidth\": 0, \"ticks\": \"\"}}, \"type\": \"scatterternary\"}], \"surface\": [{\"colorbar\": {\"outlinewidth\": 0, \"ticks\": \"\"}, \"colorscale\": [[0.0, \"#0d0887\"], [0.1111111111111111, \"#46039f\"], [0.2222222222222222, \"#7201a8\"], [0.3333333333333333, \"#9c179e\"], [0.4444444444444444, \"#bd3786\"], [0.5555555555555556, \"#d8576b\"], [0.6666666666666666, \"#ed7953\"], [0.7777777777777778, \"#fb9f3a\"], [0.8888888888888888, \"#fdca26\"], [1.0, \"#f0f921\"]], \"type\": \"surface\"}], \"table\": [{\"cells\": {\"fill\": {\"color\": \"#EBF0F8\"}, \"line\": {\"color\": \"white\"}}, \"header\": {\"fill\": {\"color\": \"#C8D4E3\"}, \"line\": {\"color\": \"white\"}}, \"type\": \"table\"}]}, \"layout\": {\"annotationdefaults\": {\"arrowcolor\": \"#2a3f5f\", \"arrowhead\": 0, \"arrowwidth\": 1}, \"coloraxis\": {\"colorbar\": {\"outlinewidth\": 0, \"ticks\": \"\"}}, \"colorscale\": {\"diverging\": [[0, \"#8e0152\"], [0.1, \"#c51b7d\"], [0.2, \"#de77ae\"], [0.3, \"#f1b6da\"], [0.4, \"#fde0ef\"], [0.5, \"#f7f7f7\"], [0.6, \"#e6f5d0\"], [0.7, \"#b8e186\"], [0.8, \"#7fbc41\"], [0.9, \"#4d9221\"], [1, \"#276419\"]], \"sequential\": [[0.0, \"#0d0887\"], [0.1111111111111111, \"#46039f\"], [0.2222222222222222, \"#7201a8\"], [0.3333333333333333, \"#9c179e\"], [0.4444444444444444, \"#bd3786\"], [0.5555555555555556, \"#d8576b\"], [0.6666666666666666, \"#ed7953\"], [0.7777777777777778, \"#fb9f3a\"], [0.8888888888888888, \"#fdca26\"], [1.0, \"#f0f921\"]], \"sequentialminus\": [[0.0, \"#0d0887\"], [0.1111111111111111, \"#46039f\"], [0.2222222222222222, \"#7201a8\"], [0.3333333333333333, \"#9c179e\"], [0.4444444444444444, \"#bd3786\"], [0.5555555555555556, \"#d8576b\"], [0.6666666666666666, \"#ed7953\"], [0.7777777777777778, \"#fb9f3a\"], [0.8888888888888888, \"#fdca26\"], [1.0, \"#f0f921\"]]}, \"colorway\": [\"#636efa\", \"#EF553B\", \"#00cc96\", \"#ab63fa\", \"#FFA15A\", \"#19d3f3\", \"#FF6692\", \"#B6E880\", \"#FF97FF\", \"#FECB52\"], \"font\": {\"color\": \"#2a3f5f\"}, \"geo\": {\"bgcolor\": \"white\", \"lakecolor\": \"white\", \"landcolor\": \"#E5ECF6\", \"showlakes\": true, \"showland\": true, \"subunitcolor\": \"white\"}, \"hoverlabel\": {\"align\": \"left\"}, \"hovermode\": \"closest\", \"mapbox\": {\"style\": \"light\"}, \"paper_bgcolor\": \"white\", \"plot_bgcolor\": \"#E5ECF6\", \"polar\": {\"angularaxis\": {\"gridcolor\": \"white\", \"linecolor\": \"white\", \"ticks\": \"\"}, \"bgcolor\": \"#E5ECF6\", \"radialaxis\": {\"gridcolor\": \"white\", \"linecolor\": \"white\", \"ticks\": \"\"}}, \"scene\": {\"xaxis\": {\"backgroundcolor\": \"#E5ECF6\", \"gridcolor\": \"white\", \"gridwidth\": 2, \"linecolor\": \"white\", \"showbackground\": true, \"ticks\": \"\", \"zerolinecolor\": \"white\"}, \"yaxis\": {\"backgroundcolor\": \"#E5ECF6\", \"gridcolor\": \"white\", \"gridwidth\": 2, \"linecolor\": \"white\", \"showbackground\": true, \"ticks\": \"\", \"zerolinecolor\": \"white\"}, \"zaxis\": {\"backgroundcolor\": \"#E5ECF6\", \"gridcolor\": \"white\", \"gridwidth\": 2, \"linecolor\": \"white\", \"showbackground\": true, \"ticks\": \"\", \"zerolinecolor\": \"white\"}}, \"shapedefaults\": {\"line\": {\"color\": \"#2a3f5f\"}}, \"ternary\": {\"aaxis\": {\"gridcolor\": \"white\", \"linecolor\": \"white\", \"ticks\": \"\"}, \"baxis\": {\"gridcolor\": \"white\", \"linecolor\": \"white\", \"ticks\": \"\"}, \"bgcolor\": \"#E5ECF6\", \"caxis\": {\"gridcolor\": \"white\", \"linecolor\": \"white\", \"ticks\": \"\"}}, \"title\": {\"x\": 0.05}, \"xaxis\": {\"automargin\": true, \"gridcolor\": \"white\", \"linecolor\": \"white\", \"ticks\": \"\", \"title\": {\"standoff\": 15}, \"zerolinecolor\": \"white\", \"zerolinewidth\": 2}, \"yaxis\": {\"automargin\": true, \"gridcolor\": \"white\", \"linecolor\": \"white\", \"ticks\": \"\", \"title\": {\"standoff\": 15}, \"zerolinecolor\": \"white\", \"zerolinewidth\": 2}}}, \"title\": {\"text\": \"\\u0421\\u043e\\u0441\\u0435\\u0434\\u043d\\u0438\\u0435 \\u0441\\u043b\\u043e\\u0432\\u0430 \\u0434\\u043b\\u044f \\u0441\\u043b\\u043e\\u0432\\u0430 \\u043f\\u0440\\u0435\\u043c\\u0438\\u044f\"}, \"xaxis\": {\"anchor\": \"y\", \"domain\": [0.0, 1.0], \"tickangle\": -45, \"title\": {\"text\": \"\\u0421\\u043b\\u043e\\u0432\\u043e\"}}, \"yaxis\": {\"anchor\": \"x\", \"domain\": [0.0, 1.0], \"title\": {\"text\": \"\\u0412\\u0435\\u0440\\u043e\\u044f\\u0442\\u043d\\u043e\\u0441\\u0442\\u044c\"}}},\n",
              "                        {\"responsive\": true}\n",
              "                    ).then(function(){\n",
              "                            \n",
              "var gd = document.getElementById('5074baaf-8f60-4dea-9b87-3bbdf595f283');\n",
              "var x = new MutationObserver(function (mutations, observer) {{\n",
              "        var display = window.getComputedStyle(gd).display;\n",
              "        if (!display || display === 'none') {{\n",
              "            console.log([gd, 'removed!']);\n",
              "            Plotly.purge(gd);\n",
              "            observer.disconnect();\n",
              "        }}\n",
              "}});\n",
              "\n",
              "// Listen for the removal of the full notebook cells\n",
              "var notebookContainer = gd.closest('#notebook-container');\n",
              "if (notebookContainer) {{\n",
              "    x.observe(notebookContainer, {childList: true});\n",
              "}}\n",
              "\n",
              "// Listen for the clearing of the current output cell\n",
              "var outputEl = gd.closest('.output');\n",
              "if (outputEl) {{\n",
              "    x.observe(outputEl, {childList: true});\n",
              "}}\n",
              "\n",
              "                        })\n",
              "                };\n",
              "                \n",
              "            </script>\n",
              "        </div>\n",
              "</body>\n",
              "</html>"
            ]
          },
          "metadata": {
            "tags": []
          }
        }
      ]
    },
    {
      "cell_type": "code",
      "metadata": {
        "id": "58jyUtohn326",
        "outputId": "018c9bcc-21a9-43ec-b6e8-7a98a7679f68",
        "colab": {
          "base_uri": "https://localhost:8080/",
          "height": 542
        }
      },
      "source": [
        "x = np.arange(0, len(losses))\n",
        "fig = go.Figure(data=go.Scatter(x=x, y=losses, line=dict(color=\"#8A2BE2\")))\n",
        "fig.show()"
      ],
      "execution_count": 61,
      "outputs": [
        {
          "output_type": "display_data",
          "data": {
            "text/html": [
              "<html>\n",
              "<head><meta charset=\"utf-8\" /></head>\n",
              "<body>\n",
              "    <div>\n",
              "            <script src=\"https://cdnjs.cloudflare.com/ajax/libs/mathjax/2.7.5/MathJax.js?config=TeX-AMS-MML_SVG\"></script><script type=\"text/javascript\">if (window.MathJax) {MathJax.Hub.Config({SVG: {font: \"STIX-Web\"}});}</script>\n",
              "                <script type=\"text/javascript\">window.PlotlyConfig = {MathJaxConfig: 'local'};</script>\n",
              "        <script src=\"https://cdn.plot.ly/plotly-latest.min.js\"></script>    \n",
              "            <div id=\"a864ef4d-ca47-4d98-8e32-2d72e8420dae\" class=\"plotly-graph-div\" style=\"height:525px; width:100%;\"></div>\n",
              "            <script type=\"text/javascript\">\n",
              "                \n",
              "                    window.PLOTLYENV=window.PLOTLYENV || {};\n",
              "                    \n",
              "                if (document.getElementById(\"a864ef4d-ca47-4d98-8e32-2d72e8420dae\")) {\n",
              "                    Plotly.newPlot(\n",
              "                        'a864ef4d-ca47-4d98-8e32-2d72e8420dae',\n",
              "                        [{\"line\": {\"color\": \"#8A2BE2\"}, \"type\": \"scatter\", \"x\": [0, 1, 2, 3, 4, 5, 6, 7, 8, 9, 10, 11, 12, 13, 14, 15, 16, 17, 18, 19, 20, 21, 22, 23, 24, 25, 26, 27, 28, 29, 30, 31, 32, 33, 34, 35, 36, 37, 38, 39, 40, 41, 42, 43, 44, 45, 46, 47, 48, 49, 50, 51, 52, 53, 54, 55, 56, 57, 58, 59, 60, 61, 62, 63, 64, 65, 66, 67, 68, 69, 70, 71, 72, 73, 74, 75, 76, 77, 78, 79, 80, 81, 82, 83, 84, 85, 86, 87, 88, 89, 90, 91, 92, 93, 94, 95, 96, 97, 98, 99, 100, 101, 102, 103, 104, 105, 106, 107, 108, 109, 110, 111, 112, 113, 114, 115, 116, 117, 118, 119, 120, 121, 122, 123, 124, 125, 126, 127, 128, 129, 130, 131, 132, 133, 134, 135, 136, 137, 138, 139, 140, 141, 142, 143, 144, 145, 146, 147, 148, 149, 150, 151, 152, 153, 154, 155, 156, 157, 158, 159, 160, 161, 162, 163, 164, 165, 166, 167, 168, 169, 170, 171, 172, 173, 174, 175, 176, 177, 178, 179, 180, 181, 182, 183, 184, 185, 186, 187, 188, 189, 190, 191, 192, 193, 194, 195, 196, 197, 198, 199, 200, 201, 202, 203, 204, 205, 206, 207, 208, 209, 210, 211, 212, 213, 214, 215, 216, 217, 218, 219], \"y\": [10455.74613571167, 10071.567681789398, 9872.661194324493, 9661.511529684067, 9517.113498210907, 9381.592426776886, 9241.808524370193, 9095.09210050106, 8941.935331106186, 8783.302275061607, 8621.552018880844, 8461.623234272003, 8307.14774608612, 8158.802151441574, 8016.049848437309, 7878.497258901596, 7746.011515617371, 7618.543287873268, 7495.975988686085, 7378.248763859272, 7265.264941573143, 7156.9610505104065, 7053.15084540844, 6953.691692531109, 6858.412424206734, 6767.146492660046, 6679.749178349972, 6596.038928568363, 6515.879078507423, 6439.086127579212, 6365.514263629913, 6295.022545516491, 6227.465332150459, 6162.713795363903, 6100.627118885517, 6041.089123129845, 5983.9695054888725, 5929.1705375909805, 5876.582443237305, 5826.125116467476, 5777.700127005577, 5731.228897809982, 5686.625485658646, 5643.801564395428, 5602.671322107315, 5563.141826808453, 5525.127343356609, 5488.539139449596, 5453.293236196041, 5419.314256131649, 5386.52500975132, 5354.865020275116, 5324.2600684762, 5294.6614112854, 5266.006571292877, 5238.246606826782, 5211.332165777683, 5185.216670095921, 5159.86405646801, 5135.230706572533, 5111.293803393841, 5088.014421224594, 5065.375529766083, 5043.347555875778, 5021.9213146567345, 5001.059270858765, 4980.760543256998, 4960.996072083712, 4941.7562620043755, 4923.016130506992, 4904.773118019104, 4886.999960958958, 4869.687078565359, 4852.8178679943085, 4836.385128498077, 4820.370740711689, 4804.764109790325, 4789.552337110043, 4774.727916747332, 4760.283490419388, 4746.194090038538, 4732.464325606823, 4719.079863637686, 4706.029843956232, 4693.303166896105, 4680.892988204956, 4668.790614664555, 4656.995314538479, 4645.483288407326, 4634.259288996458, 4623.314953714609, 4612.632822424173, 4602.209385216236, 4592.0369083583355, 4582.109335154295, 4572.413113862276, 4562.947983413935, 4553.700722962618, 4544.670112848282, 4535.8447197675705, 4527.225678026676, 4518.796049267054, 4510.565514057875, 4502.513286590576, 4494.647665411234, 4486.9500232338905, 4479.430654019117, 4472.071414142847, 4464.877661854029, 4457.837624192238, 4450.9560279250145, 4444.2179235219955, 4437.635822832584, 4431.182642996311, 4424.879047006369, 4418.703727543354, 4412.666280478239, 4406.753697156906, 4400.9701200425625, 4395.3112071454525, 4389.770892679691, 4384.349458754063, 4379.04231184721, 4373.85065048933, 4368.767279326916, 4363.794369369745, 4358.924649804831, 4354.160862028599, 4349.494967341423, 4344.931271314621, 4340.461146712303, 4336.088790893555, 4331.8068381249905, 4327.619493931532, 4323.517658680677, 4319.5074553489685, 4315.578467041254, 4311.739407747984, 4307.977574139833, 4304.300639599562, 4300.700116455555, 4297.184013098478, 4293.736318707466, 4290.373230576515, 4287.075092047453, 4283.858039408922, 4280.7040311694145, 4277.627439409494, 4274.612278163433, 4271.669909447432, 4268.787995427847, 4265.9756716787815, 4263.223186999559, 4260.534755110741, 4257.907950460911, 4255.340555220842, 4252.833039879799, 4250.384555906057, 4247.9921615719795, 4245.656948834658, 4243.376511871815, 4241.152134090662, 4238.979594618082, 4236.861564308405, 4234.793242782354, 4232.776616930962, 4230.810216039419, 4228.892485946417, 4227.023850470781, 4225.201211482286, 4223.427359133959, 4221.697554945946, 4220.014950603247, 4218.37461450696, 4216.781553953886, 4215.22609642148, 4213.719132095575, 4212.248781740665, 4210.824536949396, 4209.435219317675, 4208.090784102678, 4206.781006515026, 4205.513919591904, 4204.2804505229, 4203.088721007109, 4201.929686367512, 4200.810771018267, 4199.7238366007805, 4198.675766527653, 4197.658998996019, 4196.679786413908, 4195.73117145896, 4194.819475471973, 4193.937656700611, 4193.091044217348, 4192.275058716536, 4191.491380631924, 4190.737478405237, 4190.01432839036, 4189.320614427328, 4188.65694218874, 4188.022073626518, 4187.415869265795, 4186.837352305651, 4186.286317527294, 4185.7629339993, 4185.26690658927, 4184.797424137592, 4184.354621350765, 4183.9377000927925, 4183.546500891447, 4183.18061709404, 4182.839699596167, 4182.523721396923, 4182.231691271067, 4181.963968813419, 4181.719773828983, 4181.49912700057, 4181.3016575574875, 4181.127263903618]}],\n",
              "                        {\"template\": {\"data\": {\"bar\": [{\"error_x\": {\"color\": \"#2a3f5f\"}, \"error_y\": {\"color\": \"#2a3f5f\"}, \"marker\": {\"line\": {\"color\": \"#E5ECF6\", \"width\": 0.5}}, \"type\": \"bar\"}], \"barpolar\": [{\"marker\": {\"line\": {\"color\": \"#E5ECF6\", \"width\": 0.5}}, \"type\": \"barpolar\"}], \"carpet\": [{\"aaxis\": {\"endlinecolor\": \"#2a3f5f\", \"gridcolor\": \"white\", \"linecolor\": \"white\", \"minorgridcolor\": \"white\", \"startlinecolor\": \"#2a3f5f\"}, \"baxis\": {\"endlinecolor\": \"#2a3f5f\", \"gridcolor\": \"white\", \"linecolor\": \"white\", \"minorgridcolor\": \"white\", \"startlinecolor\": \"#2a3f5f\"}, \"type\": \"carpet\"}], \"choropleth\": [{\"colorbar\": {\"outlinewidth\": 0, \"ticks\": \"\"}, \"type\": \"choropleth\"}], \"contour\": [{\"colorbar\": {\"outlinewidth\": 0, \"ticks\": \"\"}, \"colorscale\": [[0.0, \"#0d0887\"], [0.1111111111111111, \"#46039f\"], [0.2222222222222222, \"#7201a8\"], [0.3333333333333333, \"#9c179e\"], [0.4444444444444444, \"#bd3786\"], [0.5555555555555556, \"#d8576b\"], [0.6666666666666666, \"#ed7953\"], [0.7777777777777778, \"#fb9f3a\"], [0.8888888888888888, \"#fdca26\"], [1.0, \"#f0f921\"]], \"type\": \"contour\"}], \"contourcarpet\": [{\"colorbar\": {\"outlinewidth\": 0, \"ticks\": \"\"}, \"type\": \"contourcarpet\"}], \"heatmap\": [{\"colorbar\": {\"outlinewidth\": 0, \"ticks\": \"\"}, \"colorscale\": [[0.0, \"#0d0887\"], [0.1111111111111111, \"#46039f\"], [0.2222222222222222, \"#7201a8\"], [0.3333333333333333, \"#9c179e\"], [0.4444444444444444, \"#bd3786\"], [0.5555555555555556, \"#d8576b\"], [0.6666666666666666, \"#ed7953\"], [0.7777777777777778, \"#fb9f3a\"], [0.8888888888888888, \"#fdca26\"], [1.0, \"#f0f921\"]], \"type\": \"heatmap\"}], \"heatmapgl\": [{\"colorbar\": {\"outlinewidth\": 0, \"ticks\": \"\"}, \"colorscale\": [[0.0, \"#0d0887\"], [0.1111111111111111, \"#46039f\"], [0.2222222222222222, \"#7201a8\"], [0.3333333333333333, \"#9c179e\"], [0.4444444444444444, \"#bd3786\"], [0.5555555555555556, \"#d8576b\"], [0.6666666666666666, \"#ed7953\"], [0.7777777777777778, \"#fb9f3a\"], [0.8888888888888888, \"#fdca26\"], [1.0, \"#f0f921\"]], \"type\": \"heatmapgl\"}], \"histogram\": [{\"marker\": {\"colorbar\": {\"outlinewidth\": 0, \"ticks\": \"\"}}, \"type\": \"histogram\"}], \"histogram2d\": [{\"colorbar\": {\"outlinewidth\": 0, \"ticks\": \"\"}, \"colorscale\": [[0.0, \"#0d0887\"], [0.1111111111111111, \"#46039f\"], [0.2222222222222222, \"#7201a8\"], [0.3333333333333333, \"#9c179e\"], [0.4444444444444444, \"#bd3786\"], [0.5555555555555556, \"#d8576b\"], [0.6666666666666666, \"#ed7953\"], [0.7777777777777778, \"#fb9f3a\"], [0.8888888888888888, \"#fdca26\"], [1.0, \"#f0f921\"]], \"type\": \"histogram2d\"}], \"histogram2dcontour\": [{\"colorbar\": {\"outlinewidth\": 0, \"ticks\": \"\"}, \"colorscale\": [[0.0, \"#0d0887\"], [0.1111111111111111, \"#46039f\"], [0.2222222222222222, \"#7201a8\"], [0.3333333333333333, \"#9c179e\"], [0.4444444444444444, \"#bd3786\"], [0.5555555555555556, \"#d8576b\"], [0.6666666666666666, \"#ed7953\"], [0.7777777777777778, \"#fb9f3a\"], [0.8888888888888888, \"#fdca26\"], [1.0, \"#f0f921\"]], \"type\": \"histogram2dcontour\"}], \"mesh3d\": [{\"colorbar\": {\"outlinewidth\": 0, \"ticks\": \"\"}, \"type\": \"mesh3d\"}], \"parcoords\": [{\"line\": {\"colorbar\": {\"outlinewidth\": 0, \"ticks\": \"\"}}, \"type\": \"parcoords\"}], \"pie\": [{\"automargin\": true, \"type\": \"pie\"}], \"scatter\": [{\"marker\": {\"colorbar\": {\"outlinewidth\": 0, \"ticks\": \"\"}}, \"type\": \"scatter\"}], \"scatter3d\": [{\"line\": {\"colorbar\": {\"outlinewidth\": 0, \"ticks\": \"\"}}, \"marker\": {\"colorbar\": {\"outlinewidth\": 0, \"ticks\": \"\"}}, \"type\": \"scatter3d\"}], \"scattercarpet\": [{\"marker\": {\"colorbar\": {\"outlinewidth\": 0, \"ticks\": \"\"}}, \"type\": \"scattercarpet\"}], \"scattergeo\": [{\"marker\": {\"colorbar\": {\"outlinewidth\": 0, \"ticks\": \"\"}}, \"type\": \"scattergeo\"}], \"scattergl\": [{\"marker\": {\"colorbar\": {\"outlinewidth\": 0, \"ticks\": \"\"}}, \"type\": \"scattergl\"}], \"scattermapbox\": [{\"marker\": {\"colorbar\": {\"outlinewidth\": 0, \"ticks\": \"\"}}, \"type\": \"scattermapbox\"}], \"scatterpolar\": [{\"marker\": {\"colorbar\": {\"outlinewidth\": 0, \"ticks\": \"\"}}, \"type\": \"scatterpolar\"}], \"scatterpolargl\": [{\"marker\": {\"colorbar\": {\"outlinewidth\": 0, \"ticks\": \"\"}}, \"type\": \"scatterpolargl\"}], \"scatterternary\": [{\"marker\": {\"colorbar\": {\"outlinewidth\": 0, \"ticks\": \"\"}}, \"type\": \"scatterternary\"}], \"surface\": [{\"colorbar\": {\"outlinewidth\": 0, \"ticks\": \"\"}, \"colorscale\": [[0.0, \"#0d0887\"], [0.1111111111111111, \"#46039f\"], [0.2222222222222222, \"#7201a8\"], [0.3333333333333333, \"#9c179e\"], [0.4444444444444444, \"#bd3786\"], [0.5555555555555556, \"#d8576b\"], [0.6666666666666666, \"#ed7953\"], [0.7777777777777778, \"#fb9f3a\"], [0.8888888888888888, \"#fdca26\"], [1.0, \"#f0f921\"]], \"type\": \"surface\"}], \"table\": [{\"cells\": {\"fill\": {\"color\": \"#EBF0F8\"}, \"line\": {\"color\": \"white\"}}, \"header\": {\"fill\": {\"color\": \"#C8D4E3\"}, \"line\": {\"color\": \"white\"}}, \"type\": \"table\"}]}, \"layout\": {\"annotationdefaults\": {\"arrowcolor\": \"#2a3f5f\", \"arrowhead\": 0, \"arrowwidth\": 1}, \"coloraxis\": {\"colorbar\": {\"outlinewidth\": 0, \"ticks\": \"\"}}, \"colorscale\": {\"diverging\": [[0, \"#8e0152\"], [0.1, \"#c51b7d\"], [0.2, \"#de77ae\"], [0.3, \"#f1b6da\"], [0.4, \"#fde0ef\"], [0.5, \"#f7f7f7\"], [0.6, \"#e6f5d0\"], [0.7, \"#b8e186\"], [0.8, \"#7fbc41\"], [0.9, \"#4d9221\"], [1, \"#276419\"]], \"sequential\": [[0.0, \"#0d0887\"], [0.1111111111111111, \"#46039f\"], [0.2222222222222222, \"#7201a8\"], [0.3333333333333333, \"#9c179e\"], [0.4444444444444444, \"#bd3786\"], [0.5555555555555556, \"#d8576b\"], [0.6666666666666666, \"#ed7953\"], [0.7777777777777778, \"#fb9f3a\"], [0.8888888888888888, \"#fdca26\"], [1.0, \"#f0f921\"]], \"sequentialminus\": [[0.0, \"#0d0887\"], [0.1111111111111111, \"#46039f\"], [0.2222222222222222, \"#7201a8\"], [0.3333333333333333, \"#9c179e\"], [0.4444444444444444, \"#bd3786\"], [0.5555555555555556, \"#d8576b\"], [0.6666666666666666, \"#ed7953\"], [0.7777777777777778, \"#fb9f3a\"], [0.8888888888888888, \"#fdca26\"], [1.0, \"#f0f921\"]]}, \"colorway\": [\"#636efa\", \"#EF553B\", \"#00cc96\", \"#ab63fa\", \"#FFA15A\", \"#19d3f3\", \"#FF6692\", \"#B6E880\", \"#FF97FF\", \"#FECB52\"], \"font\": {\"color\": \"#2a3f5f\"}, \"geo\": {\"bgcolor\": \"white\", \"lakecolor\": \"white\", \"landcolor\": \"#E5ECF6\", \"showlakes\": true, \"showland\": true, \"subunitcolor\": \"white\"}, \"hoverlabel\": {\"align\": \"left\"}, \"hovermode\": \"closest\", \"mapbox\": {\"style\": \"light\"}, \"paper_bgcolor\": \"white\", \"plot_bgcolor\": \"#E5ECF6\", \"polar\": {\"angularaxis\": {\"gridcolor\": \"white\", \"linecolor\": \"white\", \"ticks\": \"\"}, \"bgcolor\": \"#E5ECF6\", \"radialaxis\": {\"gridcolor\": \"white\", \"linecolor\": \"white\", \"ticks\": \"\"}}, \"scene\": {\"xaxis\": {\"backgroundcolor\": \"#E5ECF6\", \"gridcolor\": \"white\", \"gridwidth\": 2, \"linecolor\": \"white\", \"showbackground\": true, \"ticks\": \"\", \"zerolinecolor\": \"white\"}, \"yaxis\": {\"backgroundcolor\": \"#E5ECF6\", \"gridcolor\": \"white\", \"gridwidth\": 2, \"linecolor\": \"white\", \"showbackground\": true, \"ticks\": \"\", \"zerolinecolor\": \"white\"}, \"zaxis\": {\"backgroundcolor\": \"#E5ECF6\", \"gridcolor\": \"white\", \"gridwidth\": 2, \"linecolor\": \"white\", \"showbackground\": true, \"ticks\": \"\", \"zerolinecolor\": \"white\"}}, \"shapedefaults\": {\"line\": {\"color\": \"#2a3f5f\"}}, \"ternary\": {\"aaxis\": {\"gridcolor\": \"white\", \"linecolor\": \"white\", \"ticks\": \"\"}, \"baxis\": {\"gridcolor\": \"white\", \"linecolor\": \"white\", \"ticks\": \"\"}, \"bgcolor\": \"#E5ECF6\", \"caxis\": {\"gridcolor\": \"white\", \"linecolor\": \"white\", \"ticks\": \"\"}}, \"title\": {\"x\": 0.05}, \"xaxis\": {\"automargin\": true, \"gridcolor\": \"white\", \"linecolor\": \"white\", \"ticks\": \"\", \"title\": {\"standoff\": 15}, \"zerolinecolor\": \"white\", \"zerolinewidth\": 2}, \"yaxis\": {\"automargin\": true, \"gridcolor\": \"white\", \"linecolor\": \"white\", \"ticks\": \"\", \"title\": {\"standoff\": 15}, \"zerolinecolor\": \"white\", \"zerolinewidth\": 2}}}},\n",
              "                        {\"responsive\": true}\n",
              "                    ).then(function(){\n",
              "                            \n",
              "var gd = document.getElementById('a864ef4d-ca47-4d98-8e32-2d72e8420dae');\n",
              "var x = new MutationObserver(function (mutations, observer) {{\n",
              "        var display = window.getComputedStyle(gd).display;\n",
              "        if (!display || display === 'none') {{\n",
              "            console.log([gd, 'removed!']);\n",
              "            Plotly.purge(gd);\n",
              "            observer.disconnect();\n",
              "        }}\n",
              "}});\n",
              "\n",
              "// Listen for the removal of the full notebook cells\n",
              "var notebookContainer = gd.closest('#notebook-container');\n",
              "if (notebookContainer) {{\n",
              "    x.observe(notebookContainer, {childList: true});\n",
              "}}\n",
              "\n",
              "// Listen for the clearing of the current output cell\n",
              "var outputEl = gd.closest('.output');\n",
              "if (outputEl) {{\n",
              "    x.observe(outputEl, {childList: true});\n",
              "}}\n",
              "\n",
              "                        })\n",
              "                };\n",
              "                \n",
              "            </script>\n",
              "        </div>\n",
              "</body>\n",
              "</html>"
            ]
          },
          "metadata": {
            "tags": []
          }
        }
      ]
    }
  ]
}